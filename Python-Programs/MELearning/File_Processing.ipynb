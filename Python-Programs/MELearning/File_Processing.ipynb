{
  "nbformat": 4,
  "nbformat_minor": 0,
  "metadata": {
    "colab": {
      "name": "File Processing.ipynb",
      "provenance": [],
      "collapsed_sections": [],
      "authorship_tag": "ABX9TyNcCxv2VR4+HcftfO45vJso",
      "include_colab_link": true
    },
    "kernelspec": {
      "name": "python3",
      "display_name": "Python 3"
    },
    "language_info": {
      "name": "python"
    }
  },
  "cells": [
    {
      "cell_type": "markdown",
      "metadata": {
        "id": "view-in-github",
        "colab_type": "text"
      },
      "source": [
        "<a href=\"https://colab.research.google.com/github/HimathR/Zentern-Public/blob/main/File_Processing.ipynb\" target=\"_parent\"><img src=\"https://colab.research.google.com/assets/colab-badge.svg\" alt=\"Open In Colab\"/></a>"
      ]
    },
    {
      "cell_type": "markdown",
      "source": [
        "# 🚧 **Upload Archive File**\n",
        "\n",
        "To upload the zip file, navigate to the \"files\" section to the left of this browser, and click on \"upload to session storage\".\n",
        "[Click me](https://gyazo.com/726677814c4f254f3baf36ce65b5a676) for a visual guide. \n",
        "\n",
        "Then, simply click on the zip archive.zip file and it will be added to this run-time. \n",
        "After this, execute the cell below\n",
        "\n",
        "An example of what the archive.zip should look like can be found in Asana (sent by Denis)\n"
      ],
      "metadata": {
        "id": "7WZPWLojcpj0"
      }
    },
    {
      "cell_type": "code",
      "execution_count": null,
      "metadata": {
        "id": "j66XpKTd1haK"
      },
      "outputs": [],
      "source": [
        "!unzip /content/archive.zip -d /content/original/ &> /dev/null "
      ]
    },
    {
      "cell_type": "markdown",
      "source": [
        "# ⏭ **Run Program**\n",
        "\n",
        "Within this program, a variety of defined skip words and stop words can be found.\n",
        "\n",
        "The program will SKIP any line that contains a predefined skip word.\n",
        "The program will STOP reading at any line where it detecteds a predefined stop word.\n",
        "\n",
        "This is to help with the manual cleaning of each .txt afterwards."
      ],
      "metadata": {
        "id": "CsiI1Hhycu2a"
      }
    },
    {
      "cell_type": "code",
      "source": [
        "import glob\n",
        "import time\n",
        "import shutil\n",
        "import os\n",
        "import re\n",
        "\n",
        "folder = '/content/original'\n",
        "if not os.path.isdir('/content/stories'):\n",
        "  os.mkdir('/content/stories')\n",
        "sub_folders = [name for name in os.listdir(\n",
        "    folder) if os.path.isdir(os.path.join(folder, name))]\n",
        "sub_folders = sub_folders[1:]\n",
        "#print(len(sub_folders), sub_folders)\n",
        "\n",
        "count = 0\n",
        "for file in range(len(sub_folders)-1):\n",
        "  name = sub_folders[count]\n",
        "  name = re.sub(u'\\u2019', u\"\\u0027\", name)\n",
        "  outfilename = name + \".txt\"\n",
        "  #print(outfilename)\n",
        "  count += 1\n",
        "  original = r'/content/original'\n",
        "  targetfile = original + \"//\" + sub_folders[count] + \"//all.txt\"\n",
        "  newfinal = r'/content/stories'\n",
        "  newfinalplace = newfinal + \"//\" + outfilename\n",
        "  \n",
        "  #os.mkdir(finalplace)\n",
        "  with open(targetfile, encoding=\"utf-8\") as f:\n",
        "        skip_words = [\"•\", \"Rick Sampedro\", \"Image Credits\", \"TICK\",\"THINK\", \"DRAW\", \"PAGE\", \"COPYRIGHT\", \n",
        "        \"Write.\", \".....\", \"Illustrated\", \"P. \", \"LOOK\", \"SPEAK\", \"COUNT\", \"http://\", \"www.\", \n",
        "        \"All rights reserved.\", \"No part of this publication may be reproduced,\", \n",
        "        \"reproduced or used in any manner\", \"written permission of\", \n",
        "        \"in a book review.\", \"Joy Education Group\", \"EMERGING READER\", \"STARTING TO READ\", \n",
        "        \"Collection of Great Short Stories\", \"What happens next? Read and choose.\", \"Dona Herweck Rice\", \n",
        "        \"Herbert Puchta\", \"helbling.com/english\", \"ISBN\", \"Tales around the world\", \"text BOBBY LYNN MASLEN pictures JOHN R. MASLEN\", \"Sharon Coan\", \n",
        "        \"Retold by\", \"Illustrations by\", \"Suzanne I. Barchers\", \"main logo\", \"variation\", \"by\", \"What happened next? Read and choose.\"]\n",
        "        stop_words = [\"Extension Activities\", \"Decodable Words\", \"Glossary\",\n",
        "          \"Problem Solving\", \"Answer Key\", 'The End', \"MAKE AND DO\", \"Logan Avery\"]\n",
        "        data = (\"\".join(line.strip() + '\\n' for line in f if ((not line.isspace()) and (not line[0].isdigit()))))\n",
        "        revised_data = data.split('\\n')\n",
        "        final_clean = []\n",
        "        #print(revised_data)\n",
        "        for line in revised_data:\n",
        "            stop = 0\n",
        "            skip = 0\n",
        "            for word in skip_words:\n",
        "                if word.upper() in line.upper():\n",
        "                    skip = 1 # skip this line\n",
        "                    break\n",
        "            for word in stop_words:\n",
        "                if word in line:\n",
        "                    stop = 1\n",
        "                    break \n",
        "            if not stop and not skip: \n",
        "                final_clean.append(line)\n",
        "            elif skip: # keep going, just skip this line\n",
        "                continue\n",
        "            elif stop: # stop here\n",
        "                break\n",
        "        #print(final_clean)\n",
        "        data = (\"\".join(line.strip() + '\\n' for line in final_clean if ((not line.isspace()) and not (line[:1].isdigit()))))\n",
        "        textfile = open(newfinalplace, \"w\", encoding=\"utf-8\")\n",
        "        textfile.write(data)\n",
        "        textfile.close()\n",
        "        f.close()\n",
        "\n",
        "!zip -r stories.zip /content/stories &> /dev/null\n",
        "from google.colab import files\n",
        "files.download('/content/stories.zip')"
      ],
      "metadata": {
        "colab": {
          "base_uri": "https://localhost:8080/",
          "height": 17
        },
        "id": "7KNefkI111yG",
        "outputId": "d2606da2-b8f2-4e58-9a17-f48b93a25d60"
      },
      "execution_count": null,
      "outputs": [
        {
          "output_type": "display_data",
          "data": {
            "application/javascript": [
              "\n",
              "    async function download(id, filename, size) {\n",
              "      if (!google.colab.kernel.accessAllowed) {\n",
              "        return;\n",
              "      }\n",
              "      const div = document.createElement('div');\n",
              "      const label = document.createElement('label');\n",
              "      label.textContent = `Downloading \"${filename}\": `;\n",
              "      div.appendChild(label);\n",
              "      const progress = document.createElement('progress');\n",
              "      progress.max = size;\n",
              "      div.appendChild(progress);\n",
              "      document.body.appendChild(div);\n",
              "\n",
              "      const buffers = [];\n",
              "      let downloaded = 0;\n",
              "\n",
              "      const channel = await google.colab.kernel.comms.open(id);\n",
              "      // Send a message to notify the kernel that we're ready.\n",
              "      channel.send({})\n",
              "\n",
              "      for await (const message of channel.messages) {\n",
              "        // Send a message to notify the kernel that we're ready.\n",
              "        channel.send({})\n",
              "        if (message.buffers) {\n",
              "          for (const buffer of message.buffers) {\n",
              "            buffers.push(buffer);\n",
              "            downloaded += buffer.byteLength;\n",
              "            progress.value = downloaded;\n",
              "          }\n",
              "        }\n",
              "      }\n",
              "      const blob = new Blob(buffers, {type: 'application/binary'});\n",
              "      const a = document.createElement('a');\n",
              "      a.href = window.URL.createObjectURL(blob);\n",
              "      a.download = filename;\n",
              "      div.appendChild(a);\n",
              "      a.click();\n",
              "      div.remove();\n",
              "    }\n",
              "  "
            ],
            "text/plain": [
              "<IPython.core.display.Javascript object>"
            ]
          },
          "metadata": {}
        },
        {
          "output_type": "display_data",
          "data": {
            "application/javascript": [
              "download(\"download_2a15a622-b250-4130-be7d-bc18494729bc\", \"stories.zip\", 468552)"
            ],
            "text/plain": [
              "<IPython.core.display.Javascript object>"
            ]
          },
          "metadata": {}
        }
      ]
    },
    {
      "cell_type": "markdown",
      "source": [
        "# 📁 **After Downloading:**\n",
        "1.   Navigate to the location of the downloaded zip file\n",
        "2.   Extract the zip file to your preferred location\n",
        "3.   Navigate to the extracted folder. From here you should see a 'content' folder. Enter this and you will then see the 'stories' folder. Inside here are all the stories that can now be processed. \n",
        " * BEFORE processing, it is recommended that you manually skim through and ensure that all the text files do not have too much excess information, as per the guidelines mentioned in the Question Generation program\n",
        "4. Once the text files in the stories folder have been verified, you can then convert the stories folder to a .zip file. \n",
        " * TROUBLESHOOTING: In the event that some documents present with a naming error, go back to the folder and simply just manually rename them or remove the character that the error mentions to be causing the issue. A common characters you can place in the search bar to then replace is **’** (which should be replaced with **'**)\n",
        "5. Then, simply follow the instructions on the question generation program found [here](https://colab.research.google.com/drive/14BRIFtrTW77Yn1sjreSThtZk4UKjLuB6?usp=sharing)\n",
        "\n"
      ],
      "metadata": {
        "id": "9ApR7JHycxyp"
      }
    }
  ]
}
